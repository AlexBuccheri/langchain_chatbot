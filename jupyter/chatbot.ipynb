{
 "cells": [
  {
   "cell_type": "markdown",
   "source": [
    "# Octopus Chatbot"
   ],
   "metadata": {
    "collapsed": false
   },
   "id": "61de631030bdf37"
  },
  {
   "cell_type": "code",
   "execution_count": 4,
   "id": "initial_id",
   "metadata": {
    "collapsed": true,
    "ExecuteTime": {
     "end_time": "2024-08-22T22:02:18.084671Z",
     "start_time": "2024-08-22T22:02:17.438023Z"
    }
   },
   "outputs": [
    {
     "data": {
      "text/plain": "Fetching 5 files:   0%|          | 0/5 [00:00<?, ?it/s]",
      "application/vnd.jupyter.widget-view+json": {
       "version_major": 2,
       "version_minor": 0,
       "model_id": "87682cd13d0e44e59fb3e7f8ef92ade8"
      }
     },
     "metadata": {},
     "output_type": "display_data"
    },
    {
     "name": "stdout",
     "output_type": "stream",
     "text": [
      "Loading existing Chroma database from /Users/alexanderbuccheri/Codes/LlamaParseUser/chroma_db_octopus\n"
     ]
    }
   ],
   "source": [
    "from pathlib import Path\n",
    "\n",
    "from langchain_community.embeddings.fastembed import FastEmbedEmbeddings\n",
    "from langchain_community.llms import Ollama\n",
    "\n",
    "from src.LlamaParseUser.octopus_bot_from_webpage import get_or_create_chroma_vectorstore, langchain_chatbot_factory\n",
    "\n",
    "# Get the vector store\n",
    "vs_name = Path(\"/Users/alexanderbuccheri/Codes/LlamaParseUser/chroma_db_octopus\")\n",
    "embed_model = FastEmbedEmbeddings(model_name=\"BAAI/bge-small-en-v1.5\", threads=8)\n",
    "vs = get_or_create_chroma_vectorstore(vs_name, embed_model)\n",
    "\n",
    "# Instantiate a chatbot\n",
    "chat_model = Ollama(temperature=0, model=\"llama3\")\n",
    "chatbot = langchain_chatbot_factory(vs, chat_model)\n"
   ]
  },
  {
   "cell_type": "code",
   "execution_count": 6,
   "outputs": [
    {
     "name": "stdout",
     "output_type": "stream",
     "text": [
      "Question: \n",
      " what is the latest version of Octopus? \n",
      "Response: \n",
      " Octopus Version 14 \n",
      "\n",
      "Question: \n",
      " What does Octopus do? \n",
      "Response: \n",
      " Crawls, swims, changes color, solves puzzles, and eats shellfish. \n",
      "\n",
      "Question: \n",
      " Show me a basic input for a periodic calculation \n",
      "Response: \n",
      " Here is a basic input for a periodic calculation:\n",
      "\n",
      "```\n",
      "%block\n",
      "&input\n",
      "  nstep = 1000\n",
      "  dt = 0.5\n",
      "  tstart = 0.0\n",
      "  tstop = 5000.0\n",
      "/\n",
      "``` \n"
     ]
    }
   ],
   "source": [
    "# Question response times are a slow - would like to increase by an order of magnitude\n",
    "# Done:\n",
    "# * Reduced k from 3 to 1\n",
    "# * Disabled returning sources\n",
    "# To Do:\n",
    "# * One could batch the questions\n",
    "# * See how one can add follow-up questions\n",
    "\n",
    "questions = [\"what is the latest version of Octopus?\",\n",
    "             \"What does Octopus do?\",\n",
    "             \"Show me a basic input for a periodic calculation\"]\n",
    "\n",
    "for question in questions:\n",
    "    print('Question: \\n', question, '\\n')\n",
    "    response = chatbot(question)\n",
    "    # Can also query 'source_documents' to get where this info came from\n",
    "    print('Response: \\n', response['result'], '\\n')\n"
   ],
   "metadata": {
    "collapsed": false,
    "ExecuteTime": {
     "end_time": "2024-08-22T22:06:52.137951Z",
     "start_time": "2024-08-22T22:06:45.779191Z"
    }
   },
   "id": "ebcf91b155eadcc9"
  },
  {
   "cell_type": "code",
   "execution_count": null,
   "outputs": [],
   "source": [],
   "metadata": {
    "collapsed": false
   },
   "id": "8bf67fa54b4d170a"
  }
 ],
 "metadata": {
  "kernelspec": {
   "display_name": "Python 3",
   "language": "python",
   "name": "python3"
  },
  "language_info": {
   "codemirror_mode": {
    "name": "ipython",
    "version": 2
   },
   "file_extension": ".py",
   "mimetype": "text/x-python",
   "name": "python",
   "nbconvert_exporter": "python",
   "pygments_lexer": "ipython2",
   "version": "2.7.6"
  }
 },
 "nbformat": 4,
 "nbformat_minor": 5
}
