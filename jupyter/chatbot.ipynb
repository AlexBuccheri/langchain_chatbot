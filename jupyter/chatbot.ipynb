{
 "cells": [
  {
   "cell_type": "markdown",
   "source": [
    "# Octopus Chatbot"
   ],
   "metadata": {
    "collapsed": false
   },
   "id": "61de631030bdf37"
  },
  {
   "cell_type": "code",
   "execution_count": 9,
   "id": "initial_id",
   "metadata": {
    "collapsed": true,
    "ExecuteTime": {
     "end_time": "2024-08-23T16:40:27.002431Z",
     "start_time": "2024-08-23T16:40:25.751533Z"
    }
   },
   "outputs": [
    {
     "data": {
      "text/plain": "Fetching 5 files:   0%|          | 0/5 [00:00<?, ?it/s]",
      "application/vnd.jupyter.widget-view+json": {
       "version_major": 2,
       "version_minor": 0,
       "model_id": "9b8760fd463b47b08bdcf3e58bc3b9e4"
      }
     },
     "metadata": {},
     "output_type": "display_data"
    },
    {
     "name": "stdout",
     "output_type": "stream",
     "text": [
      "Loading existing Chroma database from /Users/alexanderbuccheri/Codes/LlamaParseUser/chroma_db_octopus\n",
      "Number of entries: 263183\n"
     ]
    }
   ],
   "source": [
    "from pathlib import Path\n",
    "\n",
    "from langchain_community.embeddings.fastembed import FastEmbedEmbeddings\n",
    "from langchain_community.llms import Ollama\n",
    "from langchain_openai import ChatOpenAI\n",
    "\n",
    "from src.LlamaParseUser.octopus_bot_from_webpage import get_or_create_chroma_vectorstore, langchain_chatbot_factory\n",
    "\n",
    "# Get the vector store\n",
    "vs_name = Path(\"/Users/alexanderbuccheri/Codes/LlamaParseUser/chroma_db_octopus\")\n",
    "embed_model = FastEmbedEmbeddings(model_name=\"BAAI/bge-small-en-v1.5\", threads=8)\n",
    "vs = get_or_create_chroma_vectorstore(vs_name, embed_model)\n",
    "\n",
    "# Instantiate a chatbot\n",
    "\n",
    "# Small local model. Not great\n",
    "chat_model = Ollama(temperature=0, model=\"llama3\")\n",
    "\n",
    "# No API usage is currently free\n",
    "# https://stackoverflow.com/questions/75898276/openai-api-error-429-you-exceeded-your-current-quota-please-check-your-plan-a\n",
    "# chat_model = ChatOpenAI(model_name=\"gpt-3.5-turbo-instruct\", n=2, temperature=0)\n",
    "\n",
    "print(\"Number of entries:\", vs._collection.count())\n",
    "\n",
    "# Changing the prompt in the factory has completely changed the answers\n",
    "chatbot = langchain_chatbot_factory(vs, chat_model)\n",
    "\n"
   ]
  },
  {
   "cell_type": "code",
   "execution_count": 8,
   "outputs": [
    {
     "name": "stdout",
     "output_type": "stream",
     "text": [
      "Question: \n",
      " what is the latest version of Octopus? \n",
      "Response: \n",
      " According to my knowledge, the latest version of Octopus is Octopus 2022.1. If you need more information or clarification, please let me know! \n",
      "\n",
      "Question: \n",
      " What does this DFT code do? \n",
      "Response: \n",
      " I'm ready to help! Based on the context you provided, I don't have any information about the DFT (Digital Frequency Transform) code. Can you please provide more details or clarify what you mean by \"this DFT code\"? That way, I can try to assist you better. \n",
      "\n",
      "Question: \n",
      " Show me a basic input for a periodic calculation using Octopus 14, defining the crystal, grid and eigensolver \n",
      "Response: \n",
      " Here's an example of a basic input file for a periodic calculation using Octopus 14:\n",
      "\n",
      "```\n",
      "! Octopus 14 input file\n",
      "! Define the crystal structure\n",
      "% CrystalStructure\n",
      "  lattice_vectors = (1.0, 1.0, 1.0) ! in units of Bohr radii\n",
      "  atoms = (\n",
      "    { species = \"H\" ; position = (0.0, 0.0, 0.0) },\n",
      "    { species = \"H\" ; position = (0.5, 0.5, 0.5) }\n",
      "  )\n",
      "\n",
      "! Define the grid for the calculation\n",
      "% Grid\n",
      "  nx = 16 ; ny = 16 ; nz = 16 ! number of grid points in each direction\n",
      "  dx = 0.1 ; dy = 0.1 ; dz = 0.1 ! grid spacing\n",
      "\n",
      "! Define the eigensolver settings\n",
      "% Eigensolver\n",
      "  num_states = 10 ! number of eigenstates to calculate\n",
      "  tol = 1e-8 ! tolerance for the eigensolver\n",
      "```\n",
      "\n",
      "This input file defines a simple crystal structure with two hydrogen atoms, sets up a grid for the calculation, and specifies the eigensolver settings. Note that this is just an example, and you may need to modify the input file depending on your specific calculation. \n"
     ]
    }
   ],
   "source": [
    "# Question response times are a slow - would like to increase by an order of magnitude\n",
    "# To Do:\n",
    "# * One could batch the questions\n",
    "# * See how one can add follow-up questions\n",
    "# * Move to streaming responses: https://python.langchain.com/v0.1/docs/expression_language/streaming/\n",
    "\n",
    "questions = [\"what is the latest version of Octopus?\",\n",
    "             \"What does this DFT code do?\",\n",
    "             \"Show me a basic input for a periodic calculation using Octopus 14, defining the crystal, grid and eigensolver\"]\n",
    "\n",
    "\n",
    "for question in questions:\n",
    "    print('Question: \\n', question, '\\n')\n",
    "    response = chatbot(question)\n",
    "    # Can also query 'source_documents' to get where this info came from\n",
    "    print('Response: \\n', response, '\\n')\n"
   ],
   "metadata": {
    "collapsed": false,
    "ExecuteTime": {
     "end_time": "2024-08-23T16:39:06.010035Z",
     "start_time": "2024-08-23T16:38:51.344565Z"
    }
   },
   "id": "ebcf91b155eadcc9"
  },
  {
   "cell_type": "code",
   "execution_count": null,
   "outputs": [],
   "source": [],
   "metadata": {
    "collapsed": false
   },
   "id": "8bf67fa54b4d170a"
  }
 ],
 "metadata": {
  "kernelspec": {
   "display_name": "Python 3",
   "language": "python",
   "name": "python3"
  },
  "language_info": {
   "codemirror_mode": {
    "name": "ipython",
    "version": 2
   },
   "file_extension": ".py",
   "mimetype": "text/x-python",
   "name": "python",
   "nbconvert_exporter": "python",
   "pygments_lexer": "ipython2",
   "version": "2.7.6"
  }
 },
 "nbformat": 4,
 "nbformat_minor": 5
}
